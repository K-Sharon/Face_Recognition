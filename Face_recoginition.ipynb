{
  "nbformat": 4,
  "nbformat_minor": 0,
  "metadata": {
    "colab": {
      "provenance": [],
      "gpuType": "T4"
    },
    "kernelspec": {
      "name": "python3",
      "display_name": "Python 3"
    },
    "language_info": {
      "name": "python"
    },
    "accelerator": "GPU"
  },
  "cells": [
    {
      "cell_type": "markdown",
      "source": [
        "Change the Hardware to GPU (Edit>Notebook Setting>GPU)\n",
        "\n",
        "Downlaod the packages"
      ],
      "metadata": {
        "id": "ASJGcW6wN0ZQ"
      }
    },
    {
      "cell_type": "code",
      "source": [
        "!pip install face_recognition"
      ],
      "metadata": {
        "id": "oFOErw5l1xrC"
      },
      "execution_count": null,
      "outputs": []
    },
    {
      "cell_type": "markdown",
      "source": [
        "Run the below commands to create two folders\n",
        "\n",
        "\n",
        "Upload the images in \"Known\" folder for scanning\n",
        "Upload in \"Unknown\" folder for detection"
      ],
      "metadata": {
        "id": "RXNPbAjaOobx"
      }
    },
    {
      "cell_type": "code",
      "source": [
        "!mkdir known\n",
        "!mkdir unknown"
      ],
      "metadata": {
        "id": "JLWB2Ua2O2d4"
      },
      "execution_count": null,
      "outputs": []
    },
    {
      "cell_type": "markdown",
      "source": [
        "IMAGE DETECTION"
      ],
      "metadata": {
        "id": "3PrkTPEGOUzE"
      }
    },
    {
      "cell_type": "code",
      "source": [
        "import face_recognition\n",
        "import cv2\n",
        "import os\n",
        "from google.colab.patches import cv2_imshow\n",
        "\n",
        "def read_img(path):\n",
        "    img = cv2.imread(path)\n",
        "    if img is None:\n",
        "        raise FileNotFoundError(f\"Image not found or invalid image file: {path}\")\n",
        "    (h, w) = img.shape[:2]\n",
        "    width = 500\n",
        "    ratio = width / float(w)\n",
        "    height = int(h * ratio)\n",
        "    return cv2.resize(img, (width, height))\n",
        "\n",
        "# Variables to hold known encodings and names\n",
        "known_encodings = []\n",
        "known_names = []\n",
        "known_dir = 'known'\n",
        "\n",
        "# Process known images\n",
        "for file in os.listdir(known_dir):\n",
        "    img_path = os.path.join(known_dir, file)\n",
        "    if not file.lower().endswith(('.png', '.jpg', '.jpeg')):  # Filter only image files\n",
        "        print(f\"Skipping non-image file: {file}\")\n",
        "        continue\n",
        "\n",
        "    try:\n",
        "        img = read_img(img_path)\n",
        "        encodings = face_recognition.face_encodings(img)\n",
        "\n",
        "        if encodings:  # Ensure at least one face is detected\n",
        "            known_encodings.append(encodings[0])\n",
        "            known_names.append(file.split('.')[0])\n",
        "    except FileNotFoundError as e:\n",
        "        print(e)\n",
        "\n",
        "# Process unknown images\n",
        "unknown_dir = 'unknown'\n",
        "for file in os.listdir(unknown_dir):\n",
        "    print(\"Processing\", file)\n",
        "    img_path = os.path.join(unknown_dir, file)\n",
        "    if not file.lower().endswith(('.png', '.jpg', '.jpeg')):  # Filter only image files\n",
        "        print(f\"Skipping non-image file: {file}\")\n",
        "        continue\n",
        "\n",
        "    try:\n",
        "        img = read_img(img_path)\n",
        "        encodings = face_recognition.face_encodings(img)\n",
        "\n",
        "        if encodings:  # Ensure at least one face is detected\n",
        "            img_enc = encodings[0]\n",
        "            face_locations = face_recognition.face_locations(img)  # Get face locations\n",
        "            results = face_recognition.compare_faces(known_encodings, img_enc)\n",
        "\n",
        "            for i, match in enumerate(results):\n",
        "                if match:\n",
        "                    name = known_names[i]\n",
        "                    (top, right, bottom, left) = face_locations[0]\n",
        "                    cv2.rectangle(img, (left, top), (right, bottom), (0, 0, 255), 2)\n",
        "                    cv2.putText(img, name, (left + 2, bottom + 20), cv2.FONT_HERSHEY_PLAIN, 1, (255, 255, 255), 1)\n",
        "                    cv2_imshow(img)\n",
        "\n",
        "            print(results)\n",
        "    except FileNotFoundError as e:\n",
        "        print(e)\n"
      ],
      "metadata": {
        "id": "R8Zej0x15y5L"
      },
      "execution_count": null,
      "outputs": []
    },
    {
      "cell_type": "markdown",
      "source": [
        "LIVE DETECTION USING OPEN-CV"
      ],
      "metadata": {
        "id": "jNTFNTuhONzi"
      }
    },
    {
      "cell_type": "code",
      "source": [
        "import cv2\n",
        "import numpy as np\n",
        "import face_recognition\n",
        "import os\n",
        "import base64\n",
        "from google.colab.patches import cv2_imshow\n",
        "from IPython.display import display, Javascript\n",
        "import time\n",
        "from google.colab.output import eval_js\n",
        "\n",
        "# Function to resize image\n",
        "def read_img(frame):\n",
        "    (h, w) = frame.shape[:2]\n",
        "    width = 500\n",
        "    ratio = width / float(w)\n",
        "    height = int(h * ratio)\n",
        "    return cv2.resize(frame, (width, height))\n",
        "\n",
        "# Variables for known faces\n",
        "known_encodings = []\n",
        "known_names = []\n",
        "known_dir = 'known'  # Directory where known faces are stored\n",
        "\n",
        "# Process known images (add known faces)\n",
        "for file in os.listdir(known_dir):\n",
        "    img_path = os.path.join(known_dir, file)\n",
        "    if not file.lower().endswith(('.png', '.jpg', '.jpeg')):  # Filter only image files\n",
        "        print(f\"Skipping non-image file: {file}\")\n",
        "        continue\n",
        "\n",
        "    try:\n",
        "        img = read_img(cv2.imread(img_path))\n",
        "        encodings = face_recognition.face_encodings(img)\n",
        "\n",
        "        if encodings:  # Ensure at least one face is detected\n",
        "            known_encodings.append(encodings[0])\n",
        "            known_names.append(file.split('.')[0])\n",
        "    except FileNotFoundError as e:\n",
        "        print(e)\n",
        "\n",
        "# JavaScript to access webcam and capture frames for OpenCV\n",
        "def start_video_stream():\n",
        "    js_code = \"\"\"\n",
        "    var video = document.createElement('video');\n",
        "    video.width = 640;\n",
        "    video.height = 480;\n",
        "    video.autoplay = true;\n",
        "    video.style.display = 'inline-block';\n",
        "    document.body.appendChild(video);\n",
        "\n",
        "    navigator.mediaDevices.getUserMedia({ video: true }).then(function (stream) {\n",
        "        video.srcObject = stream;\n",
        "    }).catch(function (error) {\n",
        "        console.error(\"Error accessing webcam:\", error);\n",
        "        alert(\"Webcam access failed. Please check your permissions.\");\n",
        "    });\n",
        "    \"\"\"\n",
        "    display(Javascript(js_code))\n",
        "\n",
        "def capture_frame():\n",
        "    js_code = \"\"\"\n",
        "    async function capture_frame(){\n",
        "        var video = document.querySelector('video');\n",
        "        var canvas = document.createElement('canvas');\n",
        "        canvas.width = 640;\n",
        "        canvas.height = 480;\n",
        "        var context = canvas.getContext('2d');\n",
        "        context.drawImage(video, 0, 0, canvas.width, canvas.height);\n",
        "        return canvas.toDataURL('image/jpeg');\n",
        "    }\n",
        "    capture_frame();\n",
        "    \"\"\"\n",
        "    return eval_js(js_code)\n",
        "\n",
        "# Start video stream (using JavaScript)\n",
        "start_video_stream()\n",
        "\n",
        "# Perform live face recognition\n",
        "try:\n",
        "    while True:\n",
        "        # Capture a frame (base64 encoded image)\n",
        "        frame_data = capture_frame()\n",
        "\n",
        "        # Decode the image data from base64\n",
        "        img_data = base64.b64decode(frame_data.split(\",\")[1])\n",
        "        np_img = np.frombuffer(img_data, np.uint8)\n",
        "        img = cv2.imdecode(np_img, cv2.IMREAD_COLOR)\n",
        "\n",
        "        # Perform face recognition\n",
        "        img = read_img(img)\n",
        "\n",
        "        # Find face locations and encodings\n",
        "        face_locations = face_recognition.face_locations(img)\n",
        "        encodings = face_recognition.face_encodings(img, face_locations)\n",
        "\n",
        "        # Loop over detected faces\n",
        "        for (top, right, bottom, left), enc in zip(face_locations, encodings):\n",
        "            matches = face_recognition.compare_faces(known_encodings, enc)\n",
        "\n",
        "            name = \"Unknown\"\n",
        "            if True in matches:\n",
        "                first_match_index = matches.index(True)\n",
        "                name = known_names[first_match_index]\n",
        "\n",
        "            # Draw rectangle around the face and add the name\n",
        "            cv2.rectangle(img, (left, top), (right, bottom), (0, 0, 200), 2)\n",
        "            cv2.putText(img, name, (left + 2, bottom + 20), cv2.FONT_HERSHEY_DUPLEX, 0.8, (0,0,200), 1)\n",
        "\n",
        "        # Display the image with face detection\n",
        "        cv2_imshow(img)\n",
        "\n",
        "        # Add a small delay to avoid too fast processing\n",
        "        time.sleep(0.1)\n",
        "\n",
        "except KeyboardInterrupt:\n",
        "    print(\"Face recognition stopped.\")\n"
      ],
      "metadata": {
        "id": "yJeB8CV_LB4j"
      },
      "execution_count": null,
      "outputs": []
    }
  ]
}